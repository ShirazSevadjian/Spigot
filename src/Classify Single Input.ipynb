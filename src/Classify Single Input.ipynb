{
 "cells": [
  {
   "cell_type": "markdown",
   "id": "bedee375",
   "metadata": {},
   "source": [
    "# Classify Single Input"
   ]
  },
  {
   "cell_type": "markdown",
   "id": "169820eb",
   "metadata": {},
   "source": [
    "## Description"
   ]
  },
  {
   "cell_type": "markdown",
   "id": "fdf67f5b",
   "metadata": {},
   "source": [
    "This notebook is used to classify a single new data entry to determine if a sample of water is potable or not potable. It uses previously trained model to classify the new input and determine the outcome."
   ]
  },
  {
   "cell_type": "markdown",
   "id": "aec085c0",
   "metadata": {},
   "source": [
    "## Imports and Configuration"
   ]
  },
  {
   "cell_type": "markdown",
   "id": "f5fba6be",
   "metadata": {},
   "source": [
    "### Imports needed"
   ]
  },
  {
   "cell_type": "code",
   "execution_count": 80,
   "id": "70a1984a",
   "metadata": {},
   "outputs": [],
   "source": [
    "import pickle"
   ]
  },
  {
   "cell_type": "markdown",
   "id": "ac821404",
   "metadata": {},
   "source": [
    "<h3>Load helper methods</h3>"
   ]
  },
  {
   "cell_type": "markdown",
   "id": "aa27acfd",
   "metadata": {},
   "source": [
    "The [helper_methods.ipynb](helper_methods.ipynb) notebook contains all the paths for the trained models (found in `models/` folder) which we need, as well as some other useful functions."
   ]
  },
  {
   "cell_type": "code",
   "execution_count": 81,
   "id": "e98b4053",
   "metadata": {},
   "outputs": [],
   "source": [
    "%run helper_methods.ipynb"
   ]
  },
  {
   "cell_type": "markdown",
   "id": "9e9911a5",
   "metadata": {},
   "source": [
    "## Load Models"
   ]
  },
  {
   "cell_type": "markdown",
   "id": "6d6f9e4c",
   "metadata": {},
   "source": [
    "We can now load the saved models from the disk and use them to train"
   ]
  },
  {
   "cell_type": "code",
   "execution_count": 82,
   "id": "3e0d47fd",
   "metadata": {},
   "outputs": [
    {
     "name": "stderr",
     "output_type": "stream",
     "text": [
      "C:\\Users\\Shiraz\\Anaconda3\\lib\\site-packages\\sklearn\\base.py:329: UserWarning: Trying to unpickle estimator DecisionTreeClassifier from version 1.1.2 when using version 1.0.2. This might lead to breaking code or invalid results. Use at your own risk. For more info please refer to:\n",
      "https://scikit-learn.org/stable/modules/model_persistence.html#security-maintainability-limitations\n",
      "  warnings.warn(\n",
      "C:\\Users\\Shiraz\\Anaconda3\\lib\\site-packages\\sklearn\\base.py:329: UserWarning: Trying to unpickle estimator RandomForestClassifier from version 1.1.2 when using version 1.0.2. This might lead to breaking code or invalid results. Use at your own risk. For more info please refer to:\n",
      "https://scikit-learn.org/stable/modules/model_persistence.html#security-maintainability-limitations\n",
      "  warnings.warn(\n",
      "C:\\Users\\Shiraz\\Anaconda3\\lib\\site-packages\\sklearn\\base.py:329: UserWarning: Trying to unpickle estimator RandomizedSearchCV from version 1.1.2 when using version 1.0.2. This might lead to breaking code or invalid results. Use at your own risk. For more info please refer to:\n",
      "https://scikit-learn.org/stable/modules/model_persistence.html#security-maintainability-limitations\n",
      "  warnings.warn(\n",
      "C:\\Users\\Shiraz\\Anaconda3\\lib\\site-packages\\sklearn\\base.py:329: UserWarning: Trying to unpickle estimator KNeighborsClassifier from version 1.1.2 when using version 1.0.2. This might lead to breaking code or invalid results. Use at your own risk. For more info please refer to:\n",
      "https://scikit-learn.org/stable/modules/model_persistence.html#security-maintainability-limitations\n",
      "  warnings.warn(\n",
      "C:\\Users\\Shiraz\\Anaconda3\\lib\\site-packages\\sklearn\\base.py:329: UserWarning: Trying to unpickle estimator MLPClassifier from version 1.1.2 when using version 1.0.2. This might lead to breaking code or invalid results. Use at your own risk. For more info please refer to:\n",
      "https://scikit-learn.org/stable/modules/model_persistence.html#security-maintainability-limitations\n",
      "  warnings.warn(\n",
      "C:\\Users\\Shiraz\\Anaconda3\\lib\\site-packages\\sklearn\\base.py:329: UserWarning: Trying to unpickle estimator LabelBinarizer from version 1.1.2 when using version 1.0.2. This might lead to breaking code or invalid results. Use at your own risk. For more info please refer to:\n",
      "https://scikit-learn.org/stable/modules/model_persistence.html#security-maintainability-limitations\n",
      "  warnings.warn(\n",
      "C:\\Users\\Shiraz\\Anaconda3\\lib\\site-packages\\sklearn\\base.py:329: UserWarning: Trying to unpickle estimator SVC from version 1.1.2 when using version 1.0.2. This might lead to breaking code or invalid results. Use at your own risk. For more info please refer to:\n",
      "https://scikit-learn.org/stable/modules/model_persistence.html#security-maintainability-limitations\n",
      "  warnings.warn(\n",
      "C:\\Users\\Shiraz\\Anaconda3\\lib\\site-packages\\sklearn\\base.py:329: UserWarning: Trying to unpickle estimator GaussianNB from version 1.1.2 when using version 1.0.2. This might lead to breaking code or invalid results. Use at your own risk. For more info please refer to:\n",
      "https://scikit-learn.org/stable/modules/model_persistence.html#security-maintainability-limitations\n",
      "  warnings.warn(\n",
      "C:\\Users\\Shiraz\\Anaconda3\\lib\\site-packages\\sklearn\\base.py:329: UserWarning: Trying to unpickle estimator AdaBoostClassifier from version 1.1.2 when using version 1.0.2. This might lead to breaking code or invalid results. Use at your own risk. For more info please refer to:\n",
      "https://scikit-learn.org/stable/modules/model_persistence.html#security-maintainability-limitations\n",
      "  warnings.warn(\n"
     ]
    }
   ],
   "source": [
    "#Load the saved models\n",
    "random_forest = pickle.load(open(random_forest_saved_model, 'rb'))\n",
    "decision_tree = pickle.load(open(decision_tree_saved_model, 'rb'))\n",
    "knn = pickle.load(open(knn_saved_model, 'rb'))\n",
    "mlp = pickle.load(open(mlp_saved_model, 'rb'))\n",
    "svc = pickle.load(open(svc_saved_model, 'rb'))\n",
    "gaussian_nb = pickle.load(open(gaussian_nb_saved_model, 'rb'))\n",
    "adaboost = pickle.load(open(boosting_saved_model, 'rb'))"
   ]
  },
  {
   "cell_type": "markdown",
   "id": "5bb16b47",
   "metadata": {},
   "source": [
    "## Load new data"
   ]
  },
  {
   "cell_type": "markdown",
   "id": "d14751bf",
   "metadata": {},
   "source": [
    "We can create a new data entry to see the prediction. This new datasample does not have a pre-determined outcome to suggest if it is potable or not. We are relying on our models to give us that prediction."
   ]
  },
  {
   "cell_type": "code",
   "execution_count": 99,
   "id": "bd8c8095",
   "metadata": {},
   "outputs": [],
   "source": [
    "#New samples of water\n",
    "sample1 = [[5.064867,   #Ph\n",
    "          132.894724,   #Hardness\n",
    "          12642.385122, #Solids\n",
    "          6.546600,     #Chloramines\n",
    "          310.135738,   #Sulfate\n",
    "          398.410813,   #Organic Carbon\n",
    "          24.000385,    #Trihalomethanes\n",
    "          19.836572,    #Turbidity\n",
    "          3.030454]]    #Potability\n",
    "\n",
    "sample2 = [[6.702547,   #Ph\n",
    "          207.321086,   #Hardness\n",
    "          17246.920347, #Solids\n",
    "          7.708117,     #Chloramines\n",
    "          304.510230,   #Sulfate\n",
    "          329.266002,   #Organic Carbon\n",
    "          16.217303,    #Trihalomethanes\n",
    "          28.878601,    #Turbidity\n",
    "          3.442983]]    #Potability\n",
    "\n",
    "X_new = sample1"
   ]
  },
  {
   "cell_type": "markdown",
   "id": "81835a9b",
   "metadata": {},
   "source": [
    "## Running the Models"
   ]
  },
  {
   "cell_type": "markdown",
   "id": "55b45593",
   "metadata": {},
   "source": [
    "Now we can run the X_new data on different models to see what the predicted outcome will be."
   ]
  },
  {
   "cell_type": "markdown",
   "id": "040e0792",
   "metadata": {},
   "source": [
    "### Random Forest"
   ]
  },
  {
   "cell_type": "code",
   "execution_count": 92,
   "id": "d0a777ad",
   "metadata": {},
   "outputs": [
    {
     "name": "stdout",
     "output_type": "stream",
     "text": [
      "X = [5.064867, 132.894724, 12642.385122, 6.5466, 310.135738, 398.410813, 24.000385, 19.836572, 3.030454]\n",
      "Predicted Outcome: \u001b[7;31;47mNot potable\n"
     ]
    }
   ],
   "source": [
    "y_new = random_forest.predict(X_new)\n",
    "\n",
    "predict_outcome(X_new, y_new)"
   ]
  },
  {
   "cell_type": "markdown",
   "id": "0f7e3515",
   "metadata": {},
   "source": [
    "### Decision Tree"
   ]
  },
  {
   "cell_type": "code",
   "execution_count": 93,
   "id": "905c4b70",
   "metadata": {},
   "outputs": [
    {
     "name": "stdout",
     "output_type": "stream",
     "text": [
      "X = [5.064867, 132.894724, 12642.385122, 6.5466, 310.135738, 398.410813, 24.000385, 19.836572, 3.030454]\n",
      "Predicted Outcome: \u001b[7;31;47mNot potable\n"
     ]
    }
   ],
   "source": [
    "y_new = decision_tree.predict(X_new)\n",
    "\n",
    "predict_outcome(X_new, y_new)"
   ]
  },
  {
   "cell_type": "markdown",
   "id": "4217f0cc",
   "metadata": {},
   "source": [
    "### K Nearest Neighbors"
   ]
  },
  {
   "cell_type": "code",
   "execution_count": 94,
   "id": "70ae58d2",
   "metadata": {},
   "outputs": [
    {
     "name": "stdout",
     "output_type": "stream",
     "text": [
      "X = [5.064867, 132.894724, 12642.385122, 6.5466, 310.135738, 398.410813, 24.000385, 19.836572, 3.030454]\n",
      "Predicted Outcome: \u001b[6;30;42mPotable\n"
     ]
    }
   ],
   "source": [
    "y_new = knn.predict(X_new)\n",
    "\n",
    "predict_outcome(X_new, y_new)"
   ]
  },
  {
   "cell_type": "markdown",
   "id": "cf3aa908",
   "metadata": {},
   "source": [
    "### MLP"
   ]
  },
  {
   "cell_type": "code",
   "execution_count": 95,
   "id": "48f71128",
   "metadata": {},
   "outputs": [
    {
     "name": "stdout",
     "output_type": "stream",
     "text": [
      "X = [5.064867, 132.894724, 12642.385122, 6.5466, 310.135738, 398.410813, 24.000385, 19.836572, 3.030454]\n",
      "Predicted Outcome: \u001b[6;30;42mPotable\n"
     ]
    }
   ],
   "source": [
    "y_new = mlp.predict(X_new)\n",
    "\n",
    "predict_outcome(X_new, y_new)"
   ]
  },
  {
   "cell_type": "markdown",
   "id": "60112c44",
   "metadata": {},
   "source": [
    "### SVC"
   ]
  },
  {
   "cell_type": "code",
   "execution_count": 96,
   "id": "fb3eca3b",
   "metadata": {},
   "outputs": [
    {
     "name": "stdout",
     "output_type": "stream",
     "text": [
      "X = [5.064867, 132.894724, 12642.385122, 6.5466, 310.135738, 398.410813, 24.000385, 19.836572, 3.030454]\n",
      "Predicted Outcome: \u001b[7;31;47mNot potable\n"
     ]
    }
   ],
   "source": [
    "y_new = svc.predict(X_new)\n",
    "\n",
    "predict_outcome(X_new, y_new)"
   ]
  },
  {
   "cell_type": "markdown",
   "id": "1973f9d0",
   "metadata": {},
   "source": [
    "### Gaussian Naive Bayes"
   ]
  },
  {
   "cell_type": "code",
   "execution_count": 97,
   "id": "c8d22690",
   "metadata": {},
   "outputs": [
    {
     "name": "stdout",
     "output_type": "stream",
     "text": [
      "X = [5.064867, 132.894724, 12642.385122, 6.5466, 310.135738, 398.410813, 24.000385, 19.836572, 3.030454]\n",
      "Predicted Outcome: \u001b[6;30;42mPotable\n"
     ]
    }
   ],
   "source": [
    "y_new = gaussian_nb.predict(X_new)\n",
    "\n",
    "predict_outcome(X_new, y_new)"
   ]
  },
  {
   "cell_type": "markdown",
   "id": "2c2a128f",
   "metadata": {},
   "source": [
    "### Boosting"
   ]
  },
  {
   "cell_type": "code",
   "execution_count": 98,
   "id": "61f961c9",
   "metadata": {},
   "outputs": [
    {
     "name": "stdout",
     "output_type": "stream",
     "text": [
      "X = [5.064867, 132.894724, 12642.385122, 6.5466, 310.135738, 398.410813, 24.000385, 19.836572, 3.030454]\n",
      "Predicted Outcome: \u001b[6;30;42mPotable\n"
     ]
    }
   ],
   "source": [
    "y_new = adaboost.predict(X_new)\n",
    "\n",
    "predict_outcome(X_new, y_new)"
   ]
  },
  {
   "cell_type": "markdown",
   "id": "ea506fb8",
   "metadata": {},
   "source": [
    "## Analysis"
   ]
  },
  {
   "cell_type": "markdown",
   "id": "12b487e1",
   "metadata": {},
   "source": [
    "As we can see, using different models gives us different results. We know from calculating the accuracies of the models in [model_training.ipynb](model_training.ipynb) that we get an average accuracy of 64.16% for all the models. This shows that our training data is not the best, meaning it is possible for the machine learning models to make mistakes (roughly 40% of the time). A better and more realistic dataset could be used to improve the accuracies of our models and give us more firm and correct results when predicting unknown samples. "
   ]
  }
 ],
 "metadata": {
  "kernelspec": {
   "display_name": "Python 3 (ipykernel)",
   "language": "python",
   "name": "python3"
  },
  "language_info": {
   "codemirror_mode": {
    "name": "ipython",
    "version": 3
   },
   "file_extension": ".py",
   "mimetype": "text/x-python",
   "name": "python",
   "nbconvert_exporter": "python",
   "pygments_lexer": "ipython3",
   "version": "3.9.12"
  }
 },
 "nbformat": 4,
 "nbformat_minor": 5
}
