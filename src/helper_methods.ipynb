{
 "cells": [
  {
   "cell_type": "markdown",
   "id": "8795cfab",
   "metadata": {},
   "source": [
    "# Helper methods"
   ]
  },
  {
   "cell_type": "markdown",
   "id": "380590df",
   "metadata": {},
   "source": [
    "## Description"
   ]
  },
  {
   "cell_type": "markdown",
   "id": "463d686b",
   "metadata": {},
   "source": [
    "This file contains helper methods, which are used often in the models to facilitate the use and structure the code in a neat way."
   ]
  },
  {
   "cell_type": "markdown",
   "id": "86483120",
   "metadata": {},
   "source": [
    "<h3>File Paths for models:</h3>"
   ]
  },
  {
   "cell_type": "markdown",
   "id": "53b8209f",
   "metadata": {},
   "source": [
    "The following block contains the location and names of the trained models that get saved on the disk. The individual files can be found in the root folder of the project named `models/`"
   ]
  },
  {
   "cell_type": "code",
   "execution_count": 15,
   "id": "ad2a8436",
   "metadata": {},
   "outputs": [],
   "source": [
    "#Root folder where all the models are saved\n",
    "models_path = \"../models/\"\n",
    "\n",
    "#Random Forest\n",
    "random_forest_saved_model = models_path + \"random_forest_model.p\"\n",
    "#Decision Tree\n",
    "decision_tree_saved_model = models_path + \"decision_tree_model.p\"\n",
    "#K Nearest Neighbors\n",
    "knn_saved_model = models_path + \"knn_model.p\"\n",
    "#MLP Classifier\n",
    "mlp_saved_model = models_path + \"mlp_model.p\"\n",
    "#SVC\n",
    "svc_saved_model = models_path + \"svc_model.p\"\n",
    "#Gaussian Naive Bayes\n",
    "gaussian_nb_saved_model = models_path + \"gaussian_nb_model.p\"\n",
    "#Boosting\n",
    "boosting_saved_model = models_path + \"boosting_model.p\""
   ]
  },
  {
   "cell_type": "markdown",
   "id": "475b0386",
   "metadata": {},
   "source": [
    "### Display Labels"
   ]
  },
  {
   "cell_type": "code",
   "execution_count": 8,
   "id": "1cd69a93",
   "metadata": {},
   "outputs": [],
   "source": [
    "display_labels=[\"Potable\", \"Not Potable\"]"
   ]
  },
  {
   "cell_type": "markdown",
   "id": "368a16ba",
   "metadata": {},
   "source": [
    "### Plot Confusion Matrix | plot_confusion_matrix()"
   ]
  },
  {
   "cell_type": "code",
   "execution_count": 7,
   "id": "f5040dee",
   "metadata": {},
   "outputs": [],
   "source": [
    "#Method used in 'model_training' and 'Saved Model Output' notebooks to plot the confustion matrix for a given model\n",
    "def plot_confusion_matrix(y_test, y_predict, plot_title):\n",
    "    cm = confusion_matrix(y_test, y_predict)\n",
    "    disp = ConfusionMatrixDisplay(confusion_matrix=cm, display_labels=display_labels)\n",
    "    fig, ax = plt.subplots(figsize=(5,5))\n",
    "    disp.plot(ax=ax)\n",
    "    plt.title(plot_title)\n",
    "    plt.show()"
   ]
  },
  {
   "cell_type": "markdown",
   "id": "a5057d2f",
   "metadata": {},
   "source": [
    "### Print prediction outcome | predict_outcome()"
   ]
  },
  {
   "cell_type": "code",
   "execution_count": null,
   "id": "3804b18e",
   "metadata": {},
   "outputs": [],
   "source": [
    "#Method used in 'Classify Single Input' notebook to print the prediction of a model\n",
    "def predict_outcome(X_new, y_new):\n",
    "    if(y_new[0] == 0):\n",
    "        outcome = \"\\x1b[7;31;47mNot potable\"\n",
    "    else:\n",
    "        outcome = \"\\x1b[6;30;42mPotable\"\n",
    "    print(\"X = %s\\nPredicted Outcome: %s\" % (X_new[0], outcome))"
   ]
  },
  {
   "cell_type": "markdown",
   "id": "679c582f",
   "metadata": {},
   "source": [
    "### Print average accuracy | avg_model_accuracy()"
   ]
  },
  {
   "cell_type": "code",
   "execution_count": 14,
   "id": "f9b2e193",
   "metadata": {},
   "outputs": [],
   "source": [
    "def avg_model_accuracy(accuracy_scores):\n",
    "    print(\"Average accuracy of all models: %.2f%%\" % (sum(accuracy_scores) * 100 / len(accuracy_scores)))"
   ]
  }
 ],
 "metadata": {
  "kernelspec": {
   "display_name": "Python 3 (ipykernel)",
   "language": "python",
   "name": "python3"
  },
  "language_info": {
   "codemirror_mode": {
    "name": "ipython",
    "version": 3
   },
   "file_extension": ".py",
   "mimetype": "text/x-python",
   "name": "python",
   "nbconvert_exporter": "python",
   "pygments_lexer": "ipython3",
   "version": "3.9.12"
  }
 },
 "nbformat": 4,
 "nbformat_minor": 5
}
